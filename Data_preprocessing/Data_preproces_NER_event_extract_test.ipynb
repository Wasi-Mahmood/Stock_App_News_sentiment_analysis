{
 "cells": [
  {
   "cell_type": "markdown",
   "metadata": {},
   "source": [
    "<h2><b>This notebook and method are Not used in main production</b></h2>"
   ]
  },
  {
   "cell_type": "markdown",
   "metadata": {},
   "source": [
    "<h4><b>This notebook attempts to extract event on the linguistic notations </b></h4>"
   ]
  },
  {
   "cell_type": "code",
   "execution_count": 2,
   "metadata": {},
   "outputs": [],
   "source": [
    "import pandas as pd"
   ]
  },
  {
   "cell_type": "code",
   "execution_count": 3,
   "metadata": {},
   "outputs": [
    {
     "data": {
      "text/html": [
       "<div>\n",
       "<style scoped>\n",
       "    .dataframe tbody tr th:only-of-type {\n",
       "        vertical-align: middle;\n",
       "    }\n",
       "\n",
       "    .dataframe tbody tr th {\n",
       "        vertical-align: top;\n",
       "    }\n",
       "\n",
       "    .dataframe thead th {\n",
       "        text-align: right;\n",
       "    }\n",
       "</style>\n",
       "<table border=\"1\" class=\"dataframe\">\n",
       "  <thead>\n",
       "    <tr style=\"text-align: right;\">\n",
       "      <th></th>\n",
       "      <th>Headline</th>\n",
       "      <th>Name</th>\n",
       "      <th>Data_Time</th>\n",
       "      <th>URL</th>\n",
       "      <th>Artical</th>\n",
       "    </tr>\n",
       "  </thead>\n",
       "  <tbody>\n",
       "    <tr>\n",
       "      <th>0</th>\n",
       "      <td>-- Inco's Net Soars on Higher Metal Prices, Br...</td>\n",
       "      <td>-- Dale Crofts</td>\n",
       "      <td>-- 2006-10-20T20:16:16Z</td>\n",
       "      <td>-- http://www.bloomberg.com/news/2006-10-20/in...</td>\n",
       "      <td>Inco Ltd., ...</td>\n",
       "    </tr>\n",
       "    <tr>\n",
       "      <th>1</th>\n",
       "      <td>-- Jim Cramer: Diageo, Anheuser-Busch, Monster...</td>\n",
       "      <td>-- Steven Bodzin</td>\n",
       "      <td>-- 2006-10-21T00:08:44Z</td>\n",
       "      <td>-- http://www.bloomberg.com/news/2006-10-21/ji...</td>\n",
       "      <td>Jim Cramer ...</td>\n",
       "    </tr>\n",
       "    <tr>\n",
       "      <th>2</th>\n",
       "      <td>-- EU Energy Chief Backs German Plan for Price...</td>\n",
       "      <td>-- Thomas Bauer</td>\n",
       "      <td>-- 2006-10-23T11:51:36Z</td>\n",
       "      <td>-- http://www.bloomberg.com/news/2006-10-23/eu...</td>\n",
       "      <td>European Un...</td>\n",
       "    </tr>\n",
       "    <tr>\n",
       "      <th>3</th>\n",
       "      <td>-- Ex-Plant Worker Shuster Pleads Guilty in Tr...</td>\n",
       "      <td>-- David Glovin</td>\n",
       "      <td>-- 2006-10-23T20:00:29Z</td>\n",
       "      <td>-- http://www.bloomberg.com/news/2006-10-23/ex...</td>\n",
       "      <td>A former wo...</td>\n",
       "    </tr>\n",
       "    <tr>\n",
       "      <th>4</th>\n",
       "      <td>-- Jim Cramer: Bare Escentuals, Allergan, Medi...</td>\n",
       "      <td>-- Steven Bodzin</td>\n",
       "      <td>-- 2006-10-24T01:32:04Z</td>\n",
       "      <td>-- http://www.bloomberg.com/news/2006-10-24/ji...</td>\n",
       "      <td>Bare Escent...</td>\n",
       "    </tr>\n",
       "    <tr>\n",
       "      <th>...</th>\n",
       "      <td>...</td>\n",
       "      <td>...</td>\n",
       "      <td>...</td>\n",
       "      <td>...</td>\n",
       "      <td>...</td>\n",
       "    </tr>\n",
       "    <tr>\n",
       "      <th>448390</th>\n",
       "      <td>-- Rubber Drops to Two-Week Low After Forecast...</td>\n",
       "      <td>-- B y   A y a   T a k a d a</td>\n",
       "      <td>-- 2013-11-26T02:55:40Z</td>\n",
       "      <td>-- http://www.bloomberg.com/news/2013-11-26/ru...</td>\n",
       "      <td>after a forecast that the global surplus of th...</td>\n",
       "    </tr>\n",
       "    <tr>\n",
       "      <th>448391</th>\n",
       "      <td>-- SNB’s Jordan Sees No Reason to Remove Cap o...</td>\n",
       "      <td>-- B y   C a t h e r i n e   B o s l e y</td>\n",
       "      <td>-- 2013-11-26T00:01:00Z</td>\n",
       "      <td>-- http://www.bloomberg.com/news/2013-11-26/sn...</td>\n",
       "      <td>franc remains appropriate given the currency’s...</td>\n",
       "    </tr>\n",
       "    <tr>\n",
       "      <th>448392</th>\n",
       "      <td>-- U.K. Lawmakers Seek ‘Sharp’ Change as Bank ...</td>\n",
       "      <td>-- B y   R o b e r t   H u t t o n</td>\n",
       "      <td>-- 2013-11-26T00:01:00Z</td>\n",
       "      <td>-- http://www.bloomberg.com/news/2013-11-26/u-...</td>\n",
       "      <td>inquiry into banking standards will make a new...</td>\n",
       "    </tr>\n",
       "    <tr>\n",
       "      <th>448393</th>\n",
       "      <td>-- UBS Offers to Repurchase Some Shares of Pue...</td>\n",
       "      <td>-- B y   L a u r a   M a r c i n e k</td>\n",
       "      <td>-- 2013-11-26T00:00:01Z</td>\n",
       "      <td>-- http://www.bloomberg.com/news/2013-11-26/ub...</td>\n",
       "      <td>shares of its  Puerto Rico  bond funds after t...</td>\n",
       "    </tr>\n",
       "    <tr>\n",
       "      <th>448394</th>\n",
       "      <td>-- Hyundai Motor Unveils New Genesis to Boost ...</td>\n",
       "      <td>-- B y   R o s e   K i m</td>\n",
       "      <td>-- 2013-11-26T04:29:07Z</td>\n",
       "      <td>-- http://www.bloomberg.com/news/2013-11-26/hy...</td>\n",
       "      <td>largest automaker, unveiled a revamped all-whe...</td>\n",
       "    </tr>\n",
       "  </tbody>\n",
       "</table>\n",
       "<p>448395 rows × 5 columns</p>\n",
       "</div>"
      ],
      "text/plain": [
       "                                                 Headline  \\\n",
       "0       -- Inco's Net Soars on Higher Metal Prices, Br...   \n",
       "1       -- Jim Cramer: Diageo, Anheuser-Busch, Monster...   \n",
       "2       -- EU Energy Chief Backs German Plan for Price...   \n",
       "3       -- Ex-Plant Worker Shuster Pleads Guilty in Tr...   \n",
       "4       -- Jim Cramer: Bare Escentuals, Allergan, Medi...   \n",
       "...                                                   ...   \n",
       "448390  -- Rubber Drops to Two-Week Low After Forecast...   \n",
       "448391  -- SNB’s Jordan Sees No Reason to Remove Cap o...   \n",
       "448392  -- U.K. Lawmakers Seek ‘Sharp’ Change as Bank ...   \n",
       "448393  -- UBS Offers to Repurchase Some Shares of Pue...   \n",
       "448394  -- Hyundai Motor Unveils New Genesis to Boost ...   \n",
       "\n",
       "                                             Name                 Data_Time  \\\n",
       "0                                 -- Dale Crofts   -- 2006-10-20T20:16:16Z    \n",
       "1                               -- Steven Bodzin   -- 2006-10-21T00:08:44Z    \n",
       "2                                -- Thomas Bauer   -- 2006-10-23T11:51:36Z    \n",
       "3                                -- David Glovin   -- 2006-10-23T20:00:29Z    \n",
       "4                               -- Steven Bodzin   -- 2006-10-24T01:32:04Z    \n",
       "...                                           ...                       ...   \n",
       "448390              -- B y   A y a   T a k a d a   -- 2013-11-26T02:55:40Z    \n",
       "448391  -- B y   C a t h e r i n e   B o s l e y   -- 2013-11-26T00:01:00Z    \n",
       "448392        -- B y   R o b e r t   H u t t o n   -- 2013-11-26T00:01:00Z    \n",
       "448393      -- B y   L a u r a   M a r c i n e k   -- 2013-11-26T00:00:01Z    \n",
       "448394                  -- B y   R o s e   K i m   -- 2013-11-26T04:29:07Z    \n",
       "\n",
       "                                                      URL  \\\n",
       "0       -- http://www.bloomberg.com/news/2006-10-20/in...   \n",
       "1       -- http://www.bloomberg.com/news/2006-10-21/ji...   \n",
       "2       -- http://www.bloomberg.com/news/2006-10-23/eu...   \n",
       "3       -- http://www.bloomberg.com/news/2006-10-23/ex...   \n",
       "4       -- http://www.bloomberg.com/news/2006-10-24/ji...   \n",
       "...                                                   ...   \n",
       "448390  -- http://www.bloomberg.com/news/2013-11-26/ru...   \n",
       "448391  -- http://www.bloomberg.com/news/2013-11-26/sn...   \n",
       "448392  -- http://www.bloomberg.com/news/2013-11-26/u-...   \n",
       "448393  -- http://www.bloomberg.com/news/2013-11-26/ub...   \n",
       "448394  -- http://www.bloomberg.com/news/2013-11-26/hy...   \n",
       "\n",
       "                                                  Artical  \n",
       "0                                          Inco Ltd., ...  \n",
       "1                                          Jim Cramer ...  \n",
       "2                                          European Un...  \n",
       "3                                          A former wo...  \n",
       "4                                          Bare Escent...  \n",
       "...                                                   ...  \n",
       "448390  after a forecast that the global surplus of th...  \n",
       "448391  franc remains appropriate given the currency’s...  \n",
       "448392  inquiry into banking standards will make a new...  \n",
       "448393  shares of its  Puerto Rico  bond funds after t...  \n",
       "448394  largest automaker, unveiled a revamped all-whe...  \n",
       "\n",
       "[448395 rows x 5 columns]"
      ]
     },
     "execution_count": 3,
     "metadata": {},
     "output_type": "execute_result"
    }
   ],
   "source": [
    "from pandas import DataFrame\n",
    "\n",
    "df1 = pd.read_csv(r'E:\\Semesters\\Fyp prepation\\Deep_learning_prep/testing_Dataset_1.csv')\n",
    "df1\n",
    "\n"
   ]
  },
  {
   "cell_type": "code",
   "execution_count": 4,
   "metadata": {},
   "outputs": [],
   "source": [
    "text = df1.Artical[0]"
   ]
  },
  {
   "cell_type": "code",
   "execution_count": 5,
   "metadata": {},
   "outputs": [],
   "source": [
    "import spacy \n",
    "import en_core_web_lg\n",
    "nlp_spacy = en_core_web_lg.load()"
   ]
  },
  {
   "cell_type": "code",
   "execution_count": 6,
   "metadata": {},
   "outputs": [
    {
     "data": {
      "text/plain": [
       "\"                                   Inco Ltd., the Canadian nickel producer being bought by  Brazil 's Cia. Vale do Rio, said third-quarter profit soared 11-fold, boosted by surging metal prices and fees paid by Falconbridge Ltd. after a failed takeover.    Net income jumped to $701 million, or $3.08 a share, from $64 million, or 29 cents, a year earlier, Toronto-based Inco said today in a statement. Results included $109 million in net fees from the failed deals with Falconbridge and Phelps Dodge Corp. Sales jumped to $2.32 billion from $1.08 billion.    Inco sold nickel at double the price last year on average, and output jumped 13 percent. Demand for the metal, used in stainless steel, surged as global economic growth fueled demand, especially in  China . Mines have failed to keep pace, prompting a buying spree by producers seeking to bolster ore deposits. Vale outbid Phelps Dodge and Teck Cominco Ltd. with its $17.3 billion bid.    ``Record quarterly earnings reflect the unprecedented sustained strength we've seen in the nickel market, combined with strong production,'' Inco Chief Executive Officer Scott Hand said in the statement.    Shares of Inco gained 27 cents to C$85.85 at 4:10 p.m. on the Toronto Stock Exchange. They have gained 80 percent in the past year. Rio de Janeiro-based Vale, the world's largest iron-ore producer, has offered C$86 a share for Inco.    Breakup Fees    Inco got $450 million from Falconbridge as a fee for their failed merger, and made payments when deals failed with Phelps Dodge and LionOre Mining International Ltd. A strike by workers at Voisey's Bay in September led to a $24 million charge in the third quarter, Inco said.    Phelps Dodge, the world's third-biggest copper producer, in September dropped its offer of cash and stock for Inco, whose shareholders supported an unsolicited cash bid from Vale.    Inco's nickel production climbed to 125 million pounds in the quarter as prices jumped on average to $29,552 a metric ton. The company had cut its output forecast from as much as 140 million pounds because of strikes and equipment failures. Cash costs for nickel sales fell 30 percent to $2.12 a pound, Inco said.    Inco is the world's second-biggest nickel producer by 2005 output behind  Russia 's OAO GMK Norilsk Nickel.    Copper output rose 1.7 percent to 27,669 metric tons and prices jumped 90 percent on average to $7,465 a ton.    Nickel today reached the highest since at least 1987 as supplies lag behind demand. Inventories monitored by the London Metal Exchange plunged 86 percent this year. Mine output fell short of demand by 70,000 metric tons in the eight months ended August, the World Bureau of Metal Statistics said.    LME Nickel    Nickel for delivery in three months gained $375, or 1.2 percent, to $32,050 on the LME after reaching $32,625, the highest in at least 19 years.    Extended repairs at operations in  Indonesia  and reduced output at a smelter in Sudbury, Ontario, forced Inco to cut its original production forecast for the quarter on Sept. 20.    Inco has restored full production at Sudbury and a unit in Manitoba has returned to ``stable operations'' after a damaged furnace hurt output, Inco said. The company had said Sept. 21 it expected to return to full production at Manitoba by early October.    Inco declined to provide a forecast on earnings or production before the expiration of the CVRD offer on Oct. 23.    Inco said it is ``continuing to review'' the cost and schedule for the $2.15 billion Goro nickel project in New Caledonia that's been slowed by a general strike in the country. Inco expects to announce a ``revised cost estimate'' and schedule by the end of the year.    ``There is a global shortage of skilled workers, which is felt even more acutely in  New Caledonia  with its population of 230,000 people,'' said Jeff Zweig, deputy general manager at Goro, in an e- mail on Oct. 16 ``To execute a project of this size and complexity, a significant number of skilled workers are required.''    To contact the reporter on this story: Dale Crofts in  Chicago  at   dcrofts@bloomberg.net .    To contact the editor responsible for this story: Steve Stroth at   sstroth@bloomberg.net                                         \""
      ]
     },
     "execution_count": 6,
     "metadata": {},
     "output_type": "execute_result"
    }
   ],
   "source": [
    "text"
   ]
  },
  {
   "cell_type": "code",
   "execution_count": 7,
   "metadata": {},
   "outputs": [
    {
     "name": "stdout",
     "output_type": "stream",
     "text": [
      "Cia -> Cia -> ORG\n",
      "Vale -> Vale -> ORG\n",
      "Falconbridge Ltd. -> Ltd. -> ORG\n",
      "Inco -> Inco -> ORG\n",
      "Falconbridge -> Falconbridge -> ORG\n",
      "Phelps Dodge Corp. -> Corp. -> ORG\n",
      "Vale -> Vale -> ORG\n",
      "Phelps Dodge -> Dodge -> ORG\n",
      "Teck Cominco Ltd. -> Ltd. -> ORG\n",
      "the Toronto Stock Exchange -> Exchange -> ORG\n",
      "Vale -> Vale -> ORG\n",
      "Falconbridge -> Falconbridge -> ORG\n",
      "Phelps Dodge -> Dodge -> ORG\n",
      "LionOre Mining International Ltd. -> Ltd. -> ORG\n",
      "Voisey's Bay in -> in -> ORG\n",
      "OAO GMK Norilsk Nickel -> Nickel -> ORG\n",
      "the London Metal Exchange -> Exchange -> ORG\n",
      "the World Bureau of Metal Statistics -> Bureau -> ORG\n",
      "LME Nickel    Nickel -> Nickel -> ORG\n",
      "LME -> LME -> ORG\n"
     ]
    }
   ],
   "source": [
    "doc = nlp_spacy(text)\n",
    "\n",
    "for ent in filter(lambda e: e.label_ == 'ORG', doc.ents):\n",
    "       \n",
    "       #current = ent.root\n",
    "       #print(list(current.subtree))\n",
    "   print(\"{} -> {} -> {}\".format(ent.text, ent.root,ent.label_))"
   ]
  },
  {
   "cell_type": "code",
   "execution_count": 8,
   "metadata": {},
   "outputs": [],
   "source": [
    "def dep_subtree(token, dep):\n",
    "    #deps =[child.dep_ for child in token.children]\n",
    "    child = next(filter(lambda c: c.dep_ == dep, token.children), None)\n",
    "    \n",
    "    if child != None:\n",
    "        return \" \".join([c.text for c in child.subtree])\n",
    "    else:\n",
    "        return \"\""
   ]
  },
  {
   "cell_type": "code",
   "execution_count": 9,
   "metadata": {},
   "outputs": [],
   "source": [
    "def extract_events_spacy(line):\n",
    "    #ine=p.sub('', line)\n",
    "    events = []\n",
    "    doc = nlp_spacy(line)\n",
    "    for ent in filter(lambda e: e.label_=='ORG',doc.ents):\n",
    "        #print(ent)\n",
    "        try:\n",
    "            start = ent.text\n",
    "        except:\n",
    "        # could not parse the dates, hence ignore it\n",
    "            continue\n",
    "        current = ent.root\n",
    "        while current.dep_ != \"ROOT\":\n",
    "            current = current.head\n",
    "        desc = \" \".join(filter(None,[\n",
    "                                    dep_subtree(current,\"nsubj\"),\n",
    "                                    dep_subtree(current,\"nsubjpass\"),\n",
    "                                    dep_subtree(current,\"auxpass\"),\n",
    "                                    dep_subtree(current,\"amod\"),\n",
    "                                    dep_subtree(current,\"det\"),\n",
    "                                    current.text, \n",
    "                                    dep_subtree(current,\"acl\"),\n",
    "                                    dep_subtree(current,\"dobj\"),\n",
    "                                    dep_subtree(current,\"attr\"),\n",
    "                                    dep_subtree(current,\"advmod\")\n",
    "                                     ]))\n",
    "        events = events + [(ent.text,desc)]\n",
    "        \n",
    "    return events"
   ]
  },
  {
   "cell_type": "code",
   "execution_count": null,
   "metadata": {},
   "outputs": [],
   "source": []
  },
  {
   "cell_type": "code",
   "execution_count": null,
   "metadata": {},
   "outputs": [],
   "source": []
  },
  {
   "cell_type": "code",
   "execution_count": null,
   "metadata": {},
   "outputs": [],
   "source": []
  },
  {
   "cell_type": "code",
   "execution_count": 10,
   "metadata": {},
   "outputs": [
    {
     "data": {
      "text/plain": [
       "[('Cia',\n",
       "  \"                                    Inco Ltd. , the Canadian nickel producer being bought by   Brazil 's Cia . Vale do Rio , said\"),\n",
       " ('Vale',\n",
       "  \"                                    Inco Ltd. , the Canadian nickel producer being bought by   Brazil 's Cia . Vale do Rio , said\"),\n",
       " ('Falconbridge Ltd.',\n",
       "  \"                                    Inco Ltd. , the Canadian nickel producer being bought by   Brazil 's Cia . Vale do Rio , said\"),\n",
       " ('Inco', 'Toronto - based Inco said'),\n",
       " ('Falconbridge', 'Results included $ 109 million in net fees'),\n",
       " ('Phelps Dodge Corp.', 'Results included $ 109 million in net fees'),\n",
       " ('Vale', 'Vale outbid Phelps Dodge and Teck Cominco Ltd.'),\n",
       " ('Phelps Dodge', 'Vale outbid Phelps Dodge and Teck Cominco Ltd.'),\n",
       " ('Teck Cominco Ltd.', 'Vale outbid Phelps Dodge and Teck Cominco Ltd.'),\n",
       " ('the Toronto Stock Exchange', 'Shares of Inco gained 27 cents'),\n",
       " ('Vale',\n",
       "  \"Rio de Janeiro - based Vale , the world 's largest iron - ore producer , offered C$ 86 a share for Inco\"),\n",
       " ('Falconbridge', 'Breakup Fees     Inco got $ 450 million'),\n",
       " ('Phelps Dodge', 'Breakup Fees     Inco got $ 450 million'),\n",
       " ('LionOre Mining International Ltd.', 'Ltd.'),\n",
       " (\"Voisey's Bay in\", 'Inco said'),\n",
       " ('OAO GMK Norilsk Nickel',\n",
       "  \"Inco is the world 's second - biggest nickel producer by 2005 output behind   Russia 's OAO GMK Norilsk Nickel\"),\n",
       " ('the London Metal Exchange',\n",
       "  'Inventories monitored by the London Metal Exchange plunged'),\n",
       " ('the World Bureau of Metal Statistics',\n",
       "  'the World Bureau of Metal Statistics said'),\n",
       " ('LME Nickel    Nickel',\n",
       "  'LME Nickel     Nickel for delivery in three months gained $ 375 , or 1.2 percent'),\n",
       " ('LME',\n",
       "  'LME Nickel     Nickel for delivery in three months gained $ 375 , or 1.2 percent')]"
      ]
     },
     "execution_count": 10,
     "metadata": {},
     "output_type": "execute_result"
    }
   ],
   "source": [
    "extract_events_spacy(text)\n"
   ]
  },
  {
   "cell_type": "code",
   "execution_count": 11,
   "metadata": {},
   "outputs": [
    {
     "name": "stdout",
     "output_type": "stream",
     "text": [
      "jumped --> million\n",
      "3.08 --> million\n"
     ]
    }
   ],
   "source": [
    "#nlp_spacy.add_pipe(\"merge_entities\")\n",
    "#lp_spacy.add_pipe(\"merge_noun_chunks\")\n",
    "\n",
    "TEXT =[\"Net income jumped to $701 million, or $3.08 a share, from $64 million, or 29 cents, a year earlier, Toronto-based Inco said today in a statement.\"]\n",
    "\n",
    "for doc in nlp_spacy.pipe(TEXT):\n",
    "    for token in doc:\n",
    "        if token.ent_type_ == \"MONEY\":\n",
    "            # We have an attribute and direct object, so check for subject\n",
    "            if token.dep_ in (\"attr\", \"dobj\"):\n",
    "                subj = [w for w in token.head.lefts if w.dep_ == \"nsubj\"]\n",
    "                if subj:\n",
    "                    print(subj[0], \"-->\", token)\n",
    "            # We have a prepositional object with a preposition\n",
    "            elif token.dep_ == \"pobj\" and token.head.dep_ == \"prep\":\n",
    "                print(token.head.head, \"-->\", token)"
   ]
  },
  {
   "cell_type": "code",
   "execution_count": 12,
   "metadata": {},
   "outputs": [],
   "source": [
    "import stanza"
   ]
  },
  {
   "cell_type": "code",
   "execution_count": 13,
   "metadata": {},
   "outputs": [
    {
     "name": "stderr",
     "output_type": "stream",
     "text": [
      "2022-10-13 19:27:03 INFO: Checking for updates to resources.json in case models have been updated.  Note: this behavior can be turned off with download_method=None or download_method=DownloadMethod.REUSE_RESOURCES\n",
      "Downloading https://raw.githubusercontent.com/stanfordnlp/stanza-resources/main/resources_1.4.1.json: 193kB [00:00, 38.5MB/s]                    \n",
      "2022-10-13 19:27:05 INFO: Loading these models for language: en (English):\n",
      "=========================\n",
      "| Processor | Package   |\n",
      "-------------------------\n",
      "| tokenize  | combined  |\n",
      "| ner       | ontonotes |\n",
      "=========================\n",
      "\n",
      "2022-10-13 19:27:05 INFO: Use device: cpu\n",
      "2022-10-13 19:27:05 INFO: Loading: tokenize\n",
      "2022-10-13 19:27:05 INFO: Loading: ner\n",
      "2022-10-13 19:27:05 INFO: Done loading processors!\n"
     ]
    }
   ],
   "source": [
    "nlp = stanza.Pipeline(lang='en', processors='tokenize,ner')\n",
    "doc_stanza = nlp(text)\n",
    "#print(*[f'entity: {ent.text}\\ttype: {ent.type}' for sent in doc_stanza.sentences for ent in sent.ents], sep='\\n')"
   ]
  },
  {
   "cell_type": "code",
   "execution_count": 14,
   "metadata": {},
   "outputs": [
    {
     "name": "stdout",
     "output_type": "stream",
     "text": [
      "Inco Ltd. -> ORG\n",
      "Cia -> ORG\n",
      "Vale do Rio -> ORG\n",
      "Falconbridge Ltd. -> ORG\n",
      "Inco -> ORG\n",
      "Falconbridge -> ORG\n",
      "Phelps Dodge Corp -> ORG\n",
      "Inco -> ORG\n",
      "Vale -> ORG\n",
      "Phelps Dodge -> ORG\n",
      "Teck Cominco Ltd. -> ORG\n",
      "Inco -> ORG\n",
      "Inco -> ORG\n",
      "the Toronto Stock Exchange -> ORG\n",
      "Vale -> ORG\n",
      "Inco -> ORG\n",
      "Inco -> ORG\n",
      "Falconbridge -> ORG\n",
      "Phelps Dodge -> ORG\n",
      "LionOre Mining International Ltd -> ORG\n",
      "Voisey's Bay -> ORG\n",
      "Inco -> ORG\n",
      "Phelps Dodge -> ORG\n",
      "Inco -> ORG\n",
      "Vale -> ORG\n",
      "Inco -> ORG\n",
      "Inco -> ORG\n",
      "Inco -> ORG\n",
      "OAO GMK Norilsk Nickel -> ORG\n",
      "the London Metal Exchange -> ORG\n",
      "the World Bureau of Metal Statistics -> ORG\n",
      "LME Nickel    Nickel -> ORG\n",
      "LME -> ORG\n",
      "Inco -> ORG\n",
      "Inco -> ORG\n",
      "Inco -> ORG\n",
      "Inco -> ORG\n",
      "CVRD -> ORG\n",
      "Inco -> ORG\n",
      "Goro -> ORG\n",
      "Inco -> ORG\n",
      "Goro -> ORG\n"
     ]
    }
   ],
   "source": [
    "for ents in filter(lambda e: e.type=='ORG',doc_stanza.ents):\n",
    "    print(ents.text,\"->\", ents.type)"
   ]
  },
  {
   "cell_type": "code",
   "execution_count": 15,
   "metadata": {},
   "outputs": [
    {
     "name": "stdout",
     "output_type": "stream",
     "text": [
      "[('Inco', 'Toronto - based Inco said')]\n"
     ]
    }
   ],
   "source": [
    "events =[]\n",
    "for sentences in doc.sents:\n",
    "    for ent in filter(lambda e: e.label_=='ORG',sentences.ents):\n",
    "        #print(ent)\n",
    "        try:\n",
    "            start = ent.text\n",
    "        except:\n",
    "        # could not parse the dates, hence ignore it\n",
    "            continue\n",
    "        current = ent.root\n",
    "        while current.dep_ != \"ROOT\":\n",
    "            current = current.head\n",
    "        desc = \" \".join(filter(None,[\n",
    "                                    dep_subtree(current,\"nsubj\"),\n",
    "                                    dep_subtree(current,\"nsubjpass\"),\n",
    "                                    dep_subtree(current,\"auxpass\"),\n",
    "                                    dep_subtree(current,\"amod\"),\n",
    "                                    dep_subtree(current,\"det\"),\n",
    "                                    current.text, \n",
    "                                    dep_subtree(current,\"acl\"),\n",
    "                                    dep_subtree(current,\"dobj\"),\n",
    "                                    dep_subtree(current,\"attr\"),\n",
    "                                    dep_subtree(current,\"advmod\")\n",
    "                                     ]))\n",
    "        events = events + [(ent.text,desc)]\n",
    "        \n",
    "        \n",
    "print(events)"
   ]
  },
  {
   "cell_type": "code",
   "execution_count": 16,
   "metadata": {},
   "outputs": [
    {
     "name": "stdout",
     "output_type": "stream",
     "text": [
      "Net income jumped to $701 million, or $3.08 a share, from $64 million, or 29 cents, a year earlier, Toronto-based Inco said today in a statement.\n",
      "----------------------------------------\n"
     ]
    }
   ],
   "source": [
    "nlp_de = spacy.load('en_core_web_sm')\n",
    "\n",
    "text_de = 'the guests have had been entertained by the music.'\n",
    "\n",
    "doc_de = nlp_de(text_de)\n",
    "\n",
    "predicates_elems = {}\n",
    "for sents in doc.sents:\n",
    "    print(sents)\n",
    "    print(\"----------------------------------------\")\n",
    "    for token in sents:\n",
    "        if token.dep_ == 'ROOT':\n",
    "            predicates_elems[token.i] = token\n",
    "            root_index = token.i\n",
    "\n",
    "    for child in doc[root_index].children:\n",
    "        if child.dep_ == 'aux' or child.dep_ == 'auxpass':\n",
    "            predicates_elems[child.i] = child\n",
    "\n",
    "items = list(predicates_elems.keys())\n",
    "#items.sort()\n",
    "#predicates= ' '.join([predicates_elems[ind] for ind in items])\n",
    "predicates =[]\n",
    "predicates.append(list(predicates_elems[ite] for ite in items))\n",
    "#print(\"the predicates is:\",predicates)\n",
    "#print(len(items))"
   ]
  },
  {
   "cell_type": "code",
   "execution_count": null,
   "metadata": {},
   "outputs": [],
   "source": []
  },
  {
   "cell_type": "code",
   "execution_count": 17,
   "metadata": {},
   "outputs": [
    {
     "name": "stdout",
     "output_type": "stream",
     "text": [
      "[said]\n"
     ]
    }
   ],
   "source": [
    "for item in predicates:\n",
    "    print(item)"
   ]
  },
  {
   "cell_type": "code",
   "execution_count": 15,
   "metadata": {},
   "outputs": [],
   "source": [
    "# import os\n",
    "# os.environ[\"CORENLP_HOME\"] = r\"C:\\Users\\Abdul\\.stanfordnlp_resources\\stanford-corenlp-4.1.0/\""
   ]
  },
  {
   "cell_type": "code",
   "execution_count": 13,
   "metadata": {},
   "outputs": [
    {
     "name": "stderr",
     "output_type": "stream",
     "text": [
      "2022-10-16 00:23:06 INFO: Writing properties to tmp file: corenlp_server-d1eb8ed699d74af4.props\n",
      "2022-10-16 00:23:06 INFO: Starting server with command: java -Xmx5G -cp C:\\Users\\Abdul\\.stanfordnlp_resources\\stanford-corenlp-4.1.0/* edu.stanford.nlp.pipeline.StanfordCoreNLPServer -port 65530 -timeout 150000000 -threads 5 -maxCharLength 100000 -quiet True -serverProperties corenlp_server-d1eb8ed699d74af4.props -annotators openie -preload -outputFormat serialized\n"
     ]
    }
   ],
   "source": [
    "import stanza\n",
    "# Import client module\n",
    "from stanza.server import CoreNLPClient\n",
    "\n",
    "client = CoreNLPClient(timeout=150000000, be_quiet=True, annotators=['openie'], \n",
    "endpoint='http://localhost:65530')\n",
    "client.start()\n",
    "import time\n",
    "time.sleep(10)"
   ]
  },
  {
   "cell_type": "code",
   "execution_count": null,
   "metadata": {},
   "outputs": [],
   "source": [
    "# netstat -ano | findstr:\n",
    "\n",
    "#           // listening value\n",
    "# taskkill /pid 11740 /f"
   ]
  }
 ],
 "metadata": {
  "kernelspec": {
   "display_name": "Python 3.8.5 ('base')",
   "language": "python",
   "name": "python3"
  },
  "language_info": {
   "codemirror_mode": {
    "name": "ipython",
    "version": 3
   },
   "file_extension": ".py",
   "mimetype": "text/x-python",
   "name": "python",
   "nbconvert_exporter": "python",
   "pygments_lexer": "ipython3",
   "version": "3.8.5"
  },
  "orig_nbformat": 4,
  "vscode": {
   "interpreter": {
    "hash": "30424d9308010dafecca22b5ec9402eef0e44005ea326a16069b35614aa41d25"
   }
  }
 },
 "nbformat": 4,
 "nbformat_minor": 2
}
